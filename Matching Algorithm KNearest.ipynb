{
 "cells": [
  {
   "cell_type": "code",
   "execution_count": 1,
   "id": "bbda3aaf",
   "metadata": {},
   "outputs": [],
   "source": [
    "from sklearn.metrics.pairwise import cosine_similarity\n",
    "from sklearn.feature_extraction.text import TfidfVectorizer\n",
    "import re"
   ]
  },
  {
   "cell_type": "code",
   "execution_count": 2,
   "id": "fe8c1b2a",
   "metadata": {},
   "outputs": [],
   "source": [
    "import pandas as pd\n",
    "import numpy as np"
   ]
  },
  {
   "cell_type": "code",
   "execution_count": 3,
   "id": "f3f6e788",
   "metadata": {},
   "outputs": [],
   "source": [
    "#Read Data\n",
    "df_taxpayers = pd.read_excel(\"\", sheet_name = \"\")\n"
   ]
  },
  {
   "cell_type": "code",
   "execution_count": 4,
   "id": "e5079528",
   "metadata": {},
   "outputs": [],
   "source": [
    "df_missing_tins = pd.read_excel(\"\", sheet_name=\"\")"
   ]
  },
  {
   "cell_type": "code",
   "execution_count": 8,
   "id": "e34f27b0",
   "metadata": {},
   "outputs": [],
   "source": [
    "def ngrams(string, n=3):\n",
    "     \"\"\"\n",
    "    Generate n-grams (sequences of n characters) from a given string.\n",
    "\n",
    "    Args:\n",
    "        string (str): The input string to generate n-grams from.\n",
    "        n (int, optional): The length of the n-grams to generate. Defaults to 3.\n",
    "\n",
    "    Returns:\n",
    "        list: A list of n-grams (as strings) generated from the input string.\n",
    "    \"\"\"\n",
    "    string = re.sub(r'[,-./]|\\sBD',r'', string)\n",
    "    string = string.lower() \n",
    "\n",
    "    ngrams = zip(*[string[i:] for i in range(n)])\n",
    "    return [''.join(ngram) for ngram in ngrams]"
   ]
  },
  {
   "cell_type": "code",
   "execution_count": 29,
   "id": "39455235",
   "metadata": {},
   "outputs": [],
   "source": [
    "# Drop nulls from list\n",
    "df_missing_tins= df_missing_tins.dropna(subset=['Name'])"
   ]
  },
  {
   "cell_type": "code",
   "execution_count": 9,
   "id": "9537e85a",
   "metadata": {},
   "outputs": [],
   "source": [
    "# Drop nulls from taxpayer list\n",
    "df_taxpayers= df_taxpayers.dropna(subset=['Trading name'])"
   ]
  },
  {
   "cell_type": "code",
   "execution_count": 10,
   "id": "0c2acd82",
   "metadata": {},
   "outputs": [
    {
     "name": "stdout",
     "output_type": "stream",
     "text": [
      "Vecorizing the data - this could take a few minutes for large datasets...\n",
      "Vecorizing completed...\n"
     ]
    }
   ],
   "source": [
    "print('Vecorizing the data......')\n",
    "\n",
    "# Create TfidfVectorizer object with custom n-gram analyzer\n",
    "vectorizer = TfidfVectorizer(min_df=1, analyzer=ngrams, lowercase=False)\n",
    "\n",
    "# Fit and transform Trading name column of df_taxpayers DataFrame\n",
    "tfidf = vectorizer.fit_transform(df_taxpayers['Trading name'])\n",
    "\n",
    "print('Vecorizing Done')"
   ]
  },
  {
   "cell_type": "code",
   "execution_count": 11,
   "id": "84498435",
   "metadata": {},
   "outputs": [],
   "source": [
    "from sklearn.neighbors import NearestNeighbors\n",
    "\n",
    "# Create NearestNeighbors object with custom parameters\n",
    "nbrs = NearestNeighbors(n_neighbors=1, n_jobs=-1).fit(tfidf)"
   ]
  },
  {
   "cell_type": "code",
   "execution_count": 12,
   "id": "da23245c",
   "metadata": {},
   "outputs": [
    {
     "data": {
      "text/plain": [
       "63"
      ]
     },
     "execution_count": 12,
     "metadata": {},
     "output_type": "execute_result"
    }
   ],
   "source": [
    " # convert column to match against in the taxpayer list to a set\n",
    "unique_org = set(df_missing_tins['Supplier'].values) # set used for increased performance\n"
   ]
  },
  {
   "cell_type": "code",
   "execution_count": 13,
   "id": "2677a4b5",
   "metadata": {},
   "outputs": [],
   "source": [
    "def getNearestN(query):\n",
    "    \"\"\"\n",
    "    Finds the nearest neighbor to a given query string in the TF-IDF feature space of the business names.\n",
    "\n",
    "    Args:\n",
    "        query (str): The input query string to find the nearest neighbor of.\n",
    "\n",
    "    Returns:\n",
    "        tuple: A tuple containing two arrays:\n",
    "        - distances: An array of distances between the query and the nearest neighbor.\n",
    "        - indices: An array of indices of the nearest neighbor(s) in the TF-IDF feature space.\n",
    "    \"\"\"\n",
    "    \n",
    "    # Transform query into TF-IDF feature vector using the same vectorizer used on the training data\n",
    "    queryTFIDF_ = vectorizer.transform(query)\n",
    "    \n",
    "    # Find nearest neighbors using pre-fitted nearest neighbors model\n",
    "    distances, indices = nbrs.kneighbors(queryTFIDF_)\n",
    "    \n",
    "    # Return results as a tuple\n",
    "    return distances, indices"
   ]
  },
  {
   "cell_type": "code",
   "execution_count": 14,
   "id": "80990f86",
   "metadata": {},
   "outputs": [
    {
     "name": "stdout",
     "output_type": "stream",
     "text": [
      "getting nearest n...\n",
      "COMPLETED IN: 0.2384347915649414\n"
     ]
    }
   ],
   "source": [
    "import time\n",
    "t1 = time.time()\n",
    "\n",
    "# Find the nearest neighbor to each unique name in set using the getNearestN function\n",
    "print('Getting nearest neighbors...')\n",
    "distances, indices = getNearestN(unique_org)\n",
    "\n",
    "# Calculate the time taken to run the function\n",
    "t = time.time()-t1\n",
    "print(\"DONE..\")\n",
    "print(\"Time Taken(seconds):\", t)"
   ]
  },
  {
   "cell_type": "code",
   "execution_count": 15,
   "id": "c92c7204",
   "metadata": {
    "scrolled": true
   },
   "outputs": [
    {
     "name": "stdout",
     "output_type": "stream",
     "text": [
      "finding matches...\n",
      "Building data frame...\n",
      "Done\n"
     ]
    }
   ],
   "source": [
    "# Convert set back to list\n",
    "unique_org = list(unique_org) #need to convert back to a list\n",
    "taxpayers = df_taxpayers['Trading name'].to_numpy()\n",
    "#taxpayers = df_missing_tins['Payee'].to_numpy()\n",
    "\n",
    "# Find matches\n",
    "print('Finding matches...')\n",
    "matches = []\n",
    "for i,j in enumerate(indices):\n",
    "  temp = [round(distances[i][0],2), taxpayers[j][0],unique_org[i]]\n",
    "  matches.append(temp)\n",
    "\n",
    "#Build a new dataframe containing the matches\n",
    "print('Building data frame...')  \n",
    "matches = pd.DataFrame(matches, columns=['Match confidence (lower is better)','Matched name','Original name'])\n",
    "\n",
    "print('Done') "
   ]
  },
  {
   "cell_type": "code",
   "execution_count": 17,
   "id": "6b5ae8dc",
   "metadata": {
    "scrolled": true
   },
   "outputs": [
    {
     "data": {
      "text/html": [
       "<div>\n",
       "<style scoped>\n",
       "    .dataframe tbody tr th:only-of-type {\n",
       "        vertical-align: middle;\n",
       "    }\n",
       "\n",
       "    .dataframe tbody tr th {\n",
       "        vertical-align: top;\n",
       "    }\n",
       "\n",
       "    .dataframe thead th {\n",
       "        text-align: right;\n",
       "    }\n",
       "</style>\n",
       "<table border=\"1\" class=\"dataframe\">\n",
       "  <thead>\n",
       "    <tr style=\"text-align: right;\">\n",
       "      <th></th>\n",
       "      <th>Match confidence (lower is better)</th>\n",
       "      <th>Matched name</th>\n",
       "      <th>Original name</th>\n",
       "    </tr>\n",
       "  </thead>\n",
       "  <tbody>\n",
       "    <tr>\n",
       "      <th>26</th>\n",
       "      <td>0.61</td>\n",
       "      <td>STARWOOD INVESTMENTS</td>\n",
       "      <td>STARWOOD</td>\n",
       "    </tr>\n",
       "    <tr>\n",
       "      <th>49</th>\n",
       "      <td>1.00</td>\n",
       "      <td>XX</td>\n",
       "      <td>NGWENYA WANFOR</td>\n",
       "    </tr>\n",
       "    <tr>\n",
       "      <th>35</th>\n",
       "      <td>0.83</td>\n",
       "      <td>SWAZI CANDLES EXPORT (PTY) LTD</td>\n",
       "      <td>SWAZI CANDLES</td>\n",
       "    </tr>\n",
       "    <tr>\n",
       "      <th>62</th>\n",
       "      <td>1.00</td>\n",
       "      <td>XX</td>\n",
       "      <td>BIDVEST STEINER</td>\n",
       "    </tr>\n",
       "    <tr>\n",
       "      <th>42</th>\n",
       "      <td>0.86</td>\n",
       "      <td>TRANSUNION ESWATINI (PTY) LTD</td>\n",
       "      <td>TRANSUNION</td>\n",
       "    </tr>\n",
       "    <tr>\n",
       "      <th>29</th>\n",
       "      <td>1.00</td>\n",
       "      <td>XX</td>\n",
       "      <td>PWC</td>\n",
       "    </tr>\n",
       "    <tr>\n",
       "      <th>28</th>\n",
       "      <td>0.72</td>\n",
       "      <td>JENNY INTERNET SWAZILAND (PTY) LTD</td>\n",
       "      <td>JENNY INTERNET</td>\n",
       "    </tr>\n",
       "    <tr>\n",
       "      <th>31</th>\n",
       "      <td>0.90</td>\n",
       "      <td>SIDUMO VALENTINE MDLADLA Trading as S V  MDLAD...</td>\n",
       "      <td>SV MDLADLA &amp; ASSOCIATES</td>\n",
       "    </tr>\n",
       "    <tr>\n",
       "      <th>41</th>\n",
       "      <td>0.37</td>\n",
       "      <td>ELITE FOOD SERVICES (PTY) LTD</td>\n",
       "      <td>ELITE FOOD SERVICES</td>\n",
       "    </tr>\n",
       "    <tr>\n",
       "      <th>16</th>\n",
       "      <td>0.87</td>\n",
       "      <td>ZCMB INVESTMENTS (PTY) LTD Trading as THE PREP...</td>\n",
       "      <td>ZCMB FURNITURE</td>\n",
       "    </tr>\n",
       "  </tbody>\n",
       "</table>\n",
       "</div>"
      ],
      "text/plain": [
       "    Match confidence (lower is better)  \\\n",
       "26                                0.61   \n",
       "49                                1.00   \n",
       "35                                0.83   \n",
       "62                                1.00   \n",
       "42                                0.86   \n",
       "29                                1.00   \n",
       "28                                0.72   \n",
       "31                                0.90   \n",
       "41                                0.37   \n",
       "16                                0.87   \n",
       "\n",
       "                                         Matched name            Original name  \n",
       "26                               STARWOOD INVESTMENTS                 STARWOOD  \n",
       "49                                                 XX          NGWENYA WANFOR   \n",
       "35                     SWAZI CANDLES EXPORT (PTY) LTD            SWAZI CANDLES  \n",
       "62                                                 XX          BIDVEST STEINER  \n",
       "42                      TRANSUNION ESWATINI (PTY) LTD               TRANSUNION  \n",
       "29                                                 XX                      PWC  \n",
       "28                 JENNY INTERNET SWAZILAND (PTY) LTD           JENNY INTERNET  \n",
       "31  SIDUMO VALENTINE MDLADLA Trading as S V  MDLAD...  SV MDLADLA & ASSOCIATES  \n",
       "41                      ELITE FOOD SERVICES (PTY) LTD      ELITE FOOD SERVICES  \n",
       "16  ZCMB INVESTMENTS (PTY) LTD Trading as THE PREP...           ZCMB FURNITURE  "
      ]
     },
     "execution_count": 17,
     "metadata": {},
     "output_type": "execute_result"
    }
   ],
   "source": [
    "# Explore the new dataframe containing matches\n",
    "\n",
    "matches.sort_values(['Match confidence (lower is better)'], ascending=True).sample(10)\n"
   ]
  },
  {
   "cell_type": "code",
   "execution_count": 18,
   "id": "9955572e",
   "metadata": {},
   "outputs": [],
   "source": [
    "#Export Matches to excel/csv\n",
    "matches.to_excel('', encoding='utf-8')"
   ]
  },
  {
   "cell_type": "code",
   "execution_count": null,
   "id": "a3a7fde9",
   "metadata": {},
   "outputs": [],
   "source": []
  }
 ],
 "metadata": {
  "kernelspec": {
   "display_name": "Python 3 (ipykernel)",
   "language": "python",
   "name": "python3"
  },
  "language_info": {
   "codemirror_mode": {
    "name": "ipython",
    "version": 3
   },
   "file_extension": ".py",
   "mimetype": "text/x-python",
   "name": "python",
   "nbconvert_exporter": "python",
   "pygments_lexer": "ipython3",
   "version": "3.9.12"
  }
 },
 "nbformat": 4,
 "nbformat_minor": 5
}
